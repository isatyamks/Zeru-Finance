{
 "cells": [
  {
   "cell_type": "code",
   "execution_count": 2,
   "id": "f61b459c",
   "metadata": {},
   "outputs": [],
   "source": [
    "import os, json\n",
    "import pandas as pd\n",
    "import numpy as np\n",
    "from glob import glob\n",
    "from sklearn.preprocessing import StandardScaler\n",
    "from tensorflow.keras.models import Sequential\n",
    "from tensorflow.keras.layers import Dense\n",
    "from tensorflow.keras.optimizers import Adam"
   ]
  },
  {
   "cell_type": "code",
   "execution_count": 3,
   "id": "6123d14e",
   "metadata": {},
   "outputs": [],
   "source": [
    "# 1) Load & preprocess (same as before)\n",
    "\n",
    "def load_event_data(data_dir='../data', top_n=3):\n",
    "    files = glob(os.path.join(data_dir, '*.json'))\n",
    "    files = sorted(files, key=lambda f: os.path.getsize(f), reverse=True)[:top_n]\n",
    "    df_list = []\n",
    "    for fp in files:\n",
    "        data = json.load(open(fp))\n",
    "        for k, v in data.items():\n",
    "            if isinstance(v, list) and v and isinstance(v[0], dict):\n",
    "                df = pd.json_normalize(v)\n",
    "                df['event_type'] = k\n",
    "                df_list.append(df)\n",
    "    return pd.concat(df_list, ignore_index=True)"
   ]
  },
  {
   "cell_type": "code",
   "execution_count": 4,
   "id": "e435a33f",
   "metadata": {},
   "outputs": [],
   "source": [
    "def preprocess(df):\n",
    "    df = df.rename(columns={'account.id':'wallet','amountUSD':'usd'})\n",
    "    df['usd'] = df['usd'].astype(float)\n",
    "    df['timestamp'] = pd.to_datetime(df['timestamp'], unit='s')\n",
    "    return df\n"
   ]
  },
  {
   "cell_type": "code",
   "execution_count": 5,
   "id": "efa457c7",
   "metadata": {},
   "outputs": [],
   "source": [
    "def feature_eng(df):\n",
    "    counts = df.pivot_table(index='wallet', columns='event_type',\n",
    "                             values='id', aggfunc='count', fill_value=0).add_suffix('_cnt')\n",
    "    sums   = df.pivot_table(index='wallet', columns='event_type',\n",
    "                             values='usd', aggfunc='sum', fill_value=0).add_suffix('_usd')\n",
    "    stats  = df.groupby('wallet')['usd'] \\\n",
    "               .agg(total_usd='sum', avg_usd='mean', std_usd='std').fillna(0)\n",
    "    g      = df.sort_values(['wallet','timestamp']).groupby('wallet')\n",
    "    first  = g['timestamp'].first().rename('first')\n",
    "    last   = g['timestamp'].last().rename('last')\n",
    "    tx_cnt = g.size().rename('tx_cnt')\n",
    "    days   = g['timestamp'].apply(lambda x: x.dt.date.nunique()).rename('days')\n",
    "    dt_avg = g['timestamp'].apply(lambda x: x.diff().dt.total_seconds().mean()) \\\n",
    "              .fillna(0).rename('dt_avg')\n",
    "    diversity = df.groupby('wallet')['asset.symbol'].nunique().rename('asset_div')\n",
    "\n",
    "    feat = pd.concat([counts, sums, stats, first, last,\n",
    "                      tx_cnt, days, dt_avg, diversity], axis=1).fillna(0)\n",
    "    # derived\n",
    "    feat['borrow_repay']   = feat.get('borrow_usd',0) / (feat.get('repay_usd',0)+1e-6)\n",
    "    feat['withdraw_deposit']= feat.get('withdraw_usd',0)/(feat.get('deposit_usd',0)+1e-6)\n",
    "    feat['liquidation_rate']= feat.get('liquidation_cnt',0)/(feat['tx_cnt']+1e-6)\n",
    "    feat['age_days']       = (feat['last'] - feat['first']).dt.total_seconds()/86400\n",
    "    return feat\n"
   ]
  },
  {
   "cell_type": "code",
   "execution_count": 6,
   "id": "06c7934b",
   "metadata": {},
   "outputs": [],
   "source": [
    "def train_autoencoder(X_scaled, encoding_dim=16, epochs=50, batch_size=32):\n",
    "    input_dim = X_scaled.shape[1]\n",
    "    model = Sequential([\n",
    "        Dense(64, activation='relu', input_shape=(input_dim,)),\n",
    "        Dense(encoding_dim, activation='relu'),\n",
    "        Dense(64, activation='relu'),\n",
    "        Dense(input_dim, activation='linear')\n",
    "    ])\n",
    "    model.compile(optimizer=Adam(1e-3), loss='mse')\n",
    "    model.fit(X_scaled, X_scaled,\n",
    "              epochs=epochs, batch_size=batch_size,\n",
    "              validation_split=0.1, verbose=1)\n",
    "    return model\n"
   ]
  },
  {
   "cell_type": "code",
   "execution_count": 12,
   "id": "fd9f0e88",
   "metadata": {},
   "outputs": [
    {
     "name": "stderr",
     "output_type": "stream",
     "text": [
      "/tmp/ipykernel_28407/183082337.py:4: FutureWarning: The behavior of 'to_datetime' with 'unit' when parsing strings is deprecated. In a future version, strings will be parsed as datetime strings, matching the behavior without a 'unit'. To retain the old behavior, explicitly cast ints or floats to numeric type before calling to_datetime.\n",
      "  df['timestamp'] = pd.to_datetime(df['timestamp'], unit='s')\n"
     ]
    },
    {
     "name": "stdout",
     "output_type": "stream",
     "text": [
      "Epoch 1/30\n"
     ]
    },
    {
     "name": "stderr",
     "output_type": "stream",
     "text": [
      "/home/isatyamks/miniconda3/envs/tf-gpu/lib/python3.10/site-packages/keras/src/layers/core/dense.py:87: UserWarning: Do not pass an `input_shape`/`input_dim` argument to a layer. When using Sequential models, prefer using an `Input(shape)` object as the first layer in the model instead.\n",
      "  super().__init__(activity_regularizer=activity_regularizer, **kwargs)\n"
     ]
    },
    {
     "name": "stdout",
     "output_type": "stream",
     "text": [
      "\u001b[1m380/380\u001b[0m \u001b[32m━━━━━━━━━━━━━━━━━━━━\u001b[0m\u001b[37m\u001b[0m \u001b[1m4s\u001b[0m 7ms/step - loss: 0.3887 - val_loss: 0.5494\n",
      "Epoch 2/30\n",
      "\u001b[1m380/380\u001b[0m \u001b[32m━━━━━━━━━━━━━━━━━━━━\u001b[0m\u001b[37m\u001b[0m \u001b[1m2s\u001b[0m 5ms/step - loss: 0.0832 - val_loss: 0.6131\n",
      "Epoch 3/30\n",
      "\u001b[1m380/380\u001b[0m \u001b[32m━━━━━━━━━━━━━━━━━━━━\u001b[0m\u001b[37m\u001b[0m \u001b[1m2s\u001b[0m 4ms/step - loss: 0.0853 - val_loss: 0.5608\n",
      "Epoch 4/30\n",
      "\u001b[1m380/380\u001b[0m \u001b[32m━━━━━━━━━━━━━━━━━━━━\u001b[0m\u001b[37m\u001b[0m \u001b[1m2s\u001b[0m 4ms/step - loss: 0.0760 - val_loss: 0.5123\n",
      "Epoch 5/30\n",
      "\u001b[1m380/380\u001b[0m \u001b[32m━━━━━━━━━━━━━━━━━━━━\u001b[0m\u001b[37m\u001b[0m \u001b[1m2s\u001b[0m 4ms/step - loss: 0.2476 - val_loss: 0.8460\n",
      "Epoch 6/30\n",
      "\u001b[1m380/380\u001b[0m \u001b[32m━━━━━━━━━━━━━━━━━━━━\u001b[0m\u001b[37m\u001b[0m \u001b[1m2s\u001b[0m 4ms/step - loss: 0.0871 - val_loss: 0.4304\n",
      "Epoch 7/30\n",
      "\u001b[1m380/380\u001b[0m \u001b[32m━━━━━━━━━━━━━━━━━━━━\u001b[0m\u001b[37m\u001b[0m \u001b[1m1s\u001b[0m 4ms/step - loss: 0.0695 - val_loss: 0.4095\n",
      "Epoch 8/30\n",
      "\u001b[1m380/380\u001b[0m \u001b[32m━━━━━━━━━━━━━━━━━━━━\u001b[0m\u001b[37m\u001b[0m \u001b[1m1s\u001b[0m 3ms/step - loss: 0.0242 - val_loss: 0.3559\n",
      "Epoch 9/30\n",
      "\u001b[1m380/380\u001b[0m \u001b[32m━━━━━━━━━━━━━━━━━━━━\u001b[0m\u001b[37m\u001b[0m \u001b[1m3s\u001b[0m 4ms/step - loss: 0.0580 - val_loss: 0.3442\n",
      "Epoch 10/30\n",
      "\u001b[1m380/380\u001b[0m \u001b[32m━━━━━━━━━━━━━━━━━━━━\u001b[0m\u001b[37m\u001b[0m \u001b[1m1s\u001b[0m 4ms/step - loss: 0.0359 - val_loss: 0.4536\n",
      "Epoch 11/30\n",
      "\u001b[1m380/380\u001b[0m \u001b[32m━━━━━━━━━━━━━━━━━━━━\u001b[0m\u001b[37m\u001b[0m \u001b[1m1s\u001b[0m 4ms/step - loss: 0.0808 - val_loss: 0.3579\n",
      "Epoch 12/30\n",
      "\u001b[1m380/380\u001b[0m \u001b[32m━━━━━━━━━━━━━━━━━━━━\u001b[0m\u001b[37m\u001b[0m \u001b[1m1s\u001b[0m 3ms/step - loss: 0.1715 - val_loss: 0.3281\n",
      "Epoch 13/30\n",
      "\u001b[1m380/380\u001b[0m \u001b[32m━━━━━━━━━━━━━━━━━━━━\u001b[0m\u001b[37m\u001b[0m \u001b[1m1s\u001b[0m 3ms/step - loss: 0.0256 - val_loss: 0.3173\n",
      "Epoch 14/30\n",
      "\u001b[1m380/380\u001b[0m \u001b[32m━━━━━━━━━━━━━━━━━━━━\u001b[0m\u001b[37m\u001b[0m \u001b[1m2s\u001b[0m 4ms/step - loss: 0.1653 - val_loss: 0.2812\n",
      "Epoch 15/30\n",
      "\u001b[1m380/380\u001b[0m \u001b[32m━━━━━━━━━━━━━━━━━━━━\u001b[0m\u001b[37m\u001b[0m \u001b[1m1s\u001b[0m 3ms/step - loss: 0.0671 - val_loss: 0.2603\n",
      "Epoch 16/30\n",
      "\u001b[1m380/380\u001b[0m \u001b[32m━━━━━━━━━━━━━━━━━━━━\u001b[0m\u001b[37m\u001b[0m \u001b[1m1s\u001b[0m 3ms/step - loss: 0.0224 - val_loss: 0.2807\n",
      "Epoch 17/30\n",
      "\u001b[1m380/380\u001b[0m \u001b[32m━━━━━━━━━━━━━━━━━━━━\u001b[0m\u001b[37m\u001b[0m \u001b[1m1s\u001b[0m 3ms/step - loss: 0.0483 - val_loss: 0.2843\n",
      "Epoch 18/30\n",
      "\u001b[1m380/380\u001b[0m \u001b[32m━━━━━━━━━━━━━━━━━━━━\u001b[0m\u001b[37m\u001b[0m \u001b[1m1s\u001b[0m 4ms/step - loss: 0.0291 - val_loss: 0.2239\n",
      "Epoch 19/30\n",
      "\u001b[1m380/380\u001b[0m \u001b[32m━━━━━━━━━━━━━━━━━━━━\u001b[0m\u001b[37m\u001b[0m \u001b[1m1s\u001b[0m 3ms/step - loss: 0.0395 - val_loss: 0.2232\n",
      "Epoch 20/30\n",
      "\u001b[1m380/380\u001b[0m \u001b[32m━━━━━━━━━━━━━━━━━━━━\u001b[0m\u001b[37m\u001b[0m \u001b[1m1s\u001b[0m 3ms/step - loss: 0.0615 - val_loss: 0.2914\n",
      "Epoch 21/30\n",
      "\u001b[1m380/380\u001b[0m \u001b[32m━━━━━━━━━━━━━━━━━━━━\u001b[0m\u001b[37m\u001b[0m \u001b[1m2s\u001b[0m 5ms/step - loss: 0.0495 - val_loss: 0.2204\n",
      "Epoch 22/30\n",
      "\u001b[1m380/380\u001b[0m \u001b[32m━━━━━━━━━━━━━━━━━━━━\u001b[0m\u001b[37m\u001b[0m \u001b[1m2s\u001b[0m 6ms/step - loss: 0.0222 - val_loss: 0.2473\n",
      "Epoch 23/30\n",
      "\u001b[1m380/380\u001b[0m \u001b[32m━━━━━━━━━━━━━━━━━━━━\u001b[0m\u001b[37m\u001b[0m \u001b[1m2s\u001b[0m 4ms/step - loss: 0.0129 - val_loss: 0.1656\n",
      "Epoch 24/30\n",
      "\u001b[1m380/380\u001b[0m \u001b[32m━━━━━━━━━━━━━━━━━━━━\u001b[0m\u001b[37m\u001b[0m \u001b[1m2s\u001b[0m 5ms/step - loss: 0.0170 - val_loss: 0.4389\n",
      "Epoch 25/30\n",
      "\u001b[1m380/380\u001b[0m \u001b[32m━━━━━━━━━━━━━━━━━━━━\u001b[0m\u001b[37m\u001b[0m \u001b[1m1s\u001b[0m 4ms/step - loss: 0.0230 - val_loss: 0.1550\n",
      "Epoch 26/30\n",
      "\u001b[1m380/380\u001b[0m \u001b[32m━━━━━━━━━━━━━━━━━━━━\u001b[0m\u001b[37m\u001b[0m \u001b[1m1s\u001b[0m 4ms/step - loss: 0.0570 - val_loss: 0.1532\n",
      "Epoch 27/30\n",
      "\u001b[1m380/380\u001b[0m \u001b[32m━━━━━━━━━━━━━━━━━━━━\u001b[0m\u001b[37m\u001b[0m \u001b[1m2s\u001b[0m 4ms/step - loss: 0.0208 - val_loss: 0.1822\n",
      "Epoch 28/30\n",
      "\u001b[1m380/380\u001b[0m \u001b[32m━━━━━━━━━━━━━━━━━━━━\u001b[0m\u001b[37m\u001b[0m \u001b[1m1s\u001b[0m 4ms/step - loss: 0.0234 - val_loss: 0.2049\n",
      "Epoch 29/30\n",
      "\u001b[1m380/380\u001b[0m \u001b[32m━━━━━━━━━━━━━━━━━━━━\u001b[0m\u001b[37m\u001b[0m \u001b[1m1s\u001b[0m 3ms/step - loss: 0.0443 - val_loss: 0.2047\n",
      "Epoch 30/30\n",
      "\u001b[1m380/380\u001b[0m \u001b[32m━━━━━━━━━━━━━━━━━━━━\u001b[0m\u001b[37m\u001b[0m \u001b[1m1s\u001b[0m 3ms/step - loss: 0.0616 - val_loss: 0.1809\n",
      "\u001b[1m422/422\u001b[0m \u001b[32m━━━━━━━━━━━━━━━━━━━━\u001b[0m\u001b[37m\u001b[0m \u001b[1m1s\u001b[0m 2ms/step\n"
     ]
    }
   ],
   "source": [
    "raw = load_event_data('../data', top_n=3)\n",
    "df  = preprocess(raw)\n",
    "feat= feature_eng(df)\n",
    "\n",
    "scaler = StandardScaler()\n",
    "X = scaler.fit_transform(feat.select_dtypes(include=[np.number]))\n",
    "\n",
    "ae = train_autoencoder(X, encoding_dim=16, epochs=30)\n",
    "\n",
    "X_rec = ae.predict(X)\n",
    "mse   = np.mean(np.square(X - X_rec), axis=1)\n",
    "err_norm = (mse - mse.min()) / (mse.max() - mse.min() + 1e-8)\n",
    "scores = (1 - err_norm) * 100\n",
    "\n",
    "out = pd.DataFrame({\n",
    "    'wallet': feat.index,\n",
    "    'credit_score': scores\n",
    "}).sort_values('credit_score', ascending=False).head(1000)\n",
    "\n",
    "out.to_csv('../Result.csv', index=False)\n",
    "\n"
   ]
  }
 ],
 "metadata": {
  "kernelspec": {
   "display_name": "tf-gpu",
   "language": "python",
   "name": "python3"
  },
  "language_info": {
   "codemirror_mode": {
    "name": "ipython",
    "version": 3
   },
   "file_extension": ".py",
   "mimetype": "text/x-python",
   "name": "python",
   "nbconvert_exporter": "python",
   "pygments_lexer": "ipython3",
   "version": "3.10.16"
  }
 },
 "nbformat": 4,
 "nbformat_minor": 5
}
