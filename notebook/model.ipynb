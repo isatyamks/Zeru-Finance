{
 "cells": [
  {
   "cell_type": "code",
   "execution_count": 1,
   "id": "f61b459c",
   "metadata": {},
   "outputs": [
    {
     "ename": "ModuleNotFoundError",
     "evalue": "No module named 'tensorflow'",
     "output_type": "error",
     "traceback": [
      "\u001b[31m---------------------------------------------------------------------------\u001b[39m",
      "\u001b[31mModuleNotFoundError\u001b[39m                       Traceback (most recent call last)",
      "\u001b[36mCell\u001b[39m\u001b[36m \u001b[39m\u001b[32mIn[1]\u001b[39m\u001b[32m, line 6\u001b[39m\n\u001b[32m      4\u001b[39m \u001b[38;5;28;01mfrom\u001b[39;00m\u001b[38;5;250m \u001b[39m\u001b[34;01mglob\u001b[39;00m\u001b[38;5;250m \u001b[39m\u001b[38;5;28;01mimport\u001b[39;00m glob\n\u001b[32m      5\u001b[39m \u001b[38;5;28;01mfrom\u001b[39;00m\u001b[38;5;250m \u001b[39m\u001b[34;01msklearn\u001b[39;00m\u001b[34;01m.\u001b[39;00m\u001b[34;01mpreprocessing\u001b[39;00m\u001b[38;5;250m \u001b[39m\u001b[38;5;28;01mimport\u001b[39;00m StandardScaler\n\u001b[32m----> \u001b[39m\u001b[32m6\u001b[39m \u001b[38;5;28;01mfrom\u001b[39;00m\u001b[38;5;250m \u001b[39m\u001b[34;01mtensorflow\u001b[39;00m\u001b[34;01m.\u001b[39;00m\u001b[34;01mkeras\u001b[39;00m\u001b[34;01m.\u001b[39;00m\u001b[34;01mmodels\u001b[39;00m\u001b[38;5;250m \u001b[39m\u001b[38;5;28;01mimport\u001b[39;00m Sequential\n\u001b[32m      7\u001b[39m \u001b[38;5;28;01mfrom\u001b[39;00m\u001b[38;5;250m \u001b[39m\u001b[34;01mtensorflow\u001b[39;00m\u001b[34;01m.\u001b[39;00m\u001b[34;01mkeras\u001b[39;00m\u001b[34;01m.\u001b[39;00m\u001b[34;01mlayers\u001b[39;00m\u001b[38;5;250m \u001b[39m\u001b[38;5;28;01mimport\u001b[39;00m Dense\n\u001b[32m      8\u001b[39m \u001b[38;5;28;01mfrom\u001b[39;00m\u001b[38;5;250m \u001b[39m\u001b[34;01mtensorflow\u001b[39;00m\u001b[34;01m.\u001b[39;00m\u001b[34;01mkeras\u001b[39;00m\u001b[34;01m.\u001b[39;00m\u001b[34;01moptimizers\u001b[39;00m\u001b[38;5;250m \u001b[39m\u001b[38;5;28;01mimport\u001b[39;00m Adam\n",
      "\u001b[31mModuleNotFoundError\u001b[39m: No module named 'tensorflow'"
     ]
    }
   ],
   "source": [
    "import os, json\n",
    "import pandas as pd\n",
    "import numpy as np\n",
    "from glob import glob\n",
    "from sklearn.preprocessing import StandardScaler\n",
    "from tensorflow.keras.models import Sequential\n",
    "from tensorflow.keras.layers import Dense\n",
    "from tensorflow.keras.optimizers import Adam"
   ]
  },
  {
   "cell_type": "code",
   "execution_count": 3,
   "id": "6123d14e",
   "metadata": {},
   "outputs": [],
   "source": [
    "# 1) Load & preprocess (same as before)\n",
    "\n",
    "def load_event_data(data_dir='data', top_n=3):\n",
    "    files = glob(os.path.join(data_dir, '*.json'))\n",
    "    files = sorted(files, key=lambda f: os.path.getsize(f), reverse=True)[:top_n]\n",
    "    df_list = []\n",
    "    for fp in files:\n",
    "        data = json.load(open(fp))\n",
    "        for k, v in data.items():\n",
    "            if isinstance(v, list) and v and isinstance(v[0], dict):\n",
    "                df = pd.json_normalize(v)\n",
    "                df['event_type'] = k\n",
    "                df_list.append(df)\n",
    "    return pd.concat(df_list, ignore_index=True)"
   ]
  },
  {
   "cell_type": "code",
   "execution_count": 4,
   "id": "e435a33f",
   "metadata": {},
   "outputs": [],
   "source": [
    "def preprocess(df):\n",
    "    df = df.rename(columns={'account.id':'wallet','amountUSD':'usd'})\n",
    "    df['usd'] = df['usd'].astype(float)\n",
    "    df['timestamp'] = pd.to_datetime(df['timestamp'], unit='s')\n",
    "    return df\n"
   ]
  },
  {
   "cell_type": "code",
   "execution_count": 5,
   "id": "efa457c7",
   "metadata": {},
   "outputs": [],
   "source": [
    "def feature_eng(df):\n",
    "    counts = df.pivot_table(index='wallet', columns='event_type',\n",
    "                             values='id', aggfunc='count', fill_value=0).add_suffix('_cnt')\n",
    "    sums   = df.pivot_table(index='wallet', columns='event_type',\n",
    "                             values='usd', aggfunc='sum', fill_value=0).add_suffix('_usd')\n",
    "    stats  = df.groupby('wallet')['usd'] \\\n",
    "               .agg(total_usd='sum', avg_usd='mean', std_usd='std').fillna(0)\n",
    "    g      = df.sort_values(['wallet','timestamp']).groupby('wallet')\n",
    "    first  = g['timestamp'].first().rename('first')\n",
    "    last   = g['timestamp'].last().rename('last')\n",
    "    tx_cnt = g.size().rename('tx_cnt')\n",
    "    days   = g['timestamp'].apply(lambda x: x.dt.date.nunique()).rename('days')\n",
    "    dt_avg = g['timestamp'].apply(lambda x: x.diff().dt.total_seconds().mean()) \\\n",
    "              .fillna(0).rename('dt_avg')\n",
    "    diversity = df.groupby('wallet')['asset.symbol'].nunique().rename('asset_div')\n",
    "\n",
    "    feat = pd.concat([counts, sums, stats, first, last,\n",
    "                      tx_cnt, days, dt_avg, diversity], axis=1).fillna(0)\n",
    "    # derived\n",
    "    feat['borrow_repay']   = feat.get('borrow_usd',0) / (feat.get('repay_usd',0)+1e-6)\n",
    "    feat['withdraw_deposit']= feat.get('withdraw_usd',0)/(feat.get('deposit_usd',0)+1e-6)\n",
    "    feat['liquidation_rate']= feat.get('liquidation_cnt',0)/(feat['tx_cnt']+1e-6)\n",
    "    feat['age_days']       = (feat['last'] - feat['first']).dt.total_seconds()/86400\n",
    "    return feat\n"
   ]
  },
  {
   "cell_type": "code",
   "execution_count": null,
   "id": "06c7934b",
   "metadata": {},
   "outputs": [],
   "source": [
    "def train_autoencoder(X_scaled, encoding_dim=16, epochs=50, batch_size=32):\n",
    "    input_dim = X_scaled.shape[1]\n",
    "    model = Sequential([\n",
    "        Dense(64, activation='relu', input_shape=(input_dim,)),\n",
    "        Dense(encoding_dim, activation='relu'),\n",
    "        Dense(64, activation='relu'),\n",
    "        Dense(input_dim, activation='linear')\n",
    "    ])\n",
    "    model.compile(optimizer=Adam(1e-3), loss='mse')\n",
    "    model.fit(X_scaled, X_scaled,\n",
    "              epochs=epochs, batch_size=batch_size,\n",
    "              validation_split=0.1, verbose=1)\n",
    "    return model\n"
   ]
  }
 ],
 "metadata": {
  "kernelspec": {
   "display_name": "base",
   "language": "python",
   "name": "python3"
  },
  "language_info": {
   "codemirror_mode": {
    "name": "ipython",
    "version": 3
   },
   "file_extension": ".py",
   "mimetype": "text/x-python",
   "name": "python",
   "nbconvert_exporter": "python",
   "pygments_lexer": "ipython3",
   "version": "3.13.2"
  }
 },
 "nbformat": 4,
 "nbformat_minor": 5
}
